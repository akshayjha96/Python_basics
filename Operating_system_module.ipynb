{
 "cells": [
  {
   "attachments": {},
   "cell_type": "markdown",
   "metadata": {},
   "source": [
    "# Operating system calls\n",
    "\n",
    "It's possible to use python to perform command line calls\n",
    "\n",
    "We can do this with the os module"
   ]
  },
  {
   "cell_type": "code",
   "execution_count": 1,
   "metadata": {},
   "outputs": [],
   "source": [
    "import os"
   ]
  },
  {
   "attachments": {},
   "cell_type": "markdown",
   "metadata": {},
   "source": [
    "## name of operating system\n",
    "\n",
    "We can get the operating system we're working on\n",
    "\n",
    "1. nt is windows\n",
    "2. posix is all unix based systems (Mac, Linux, ...)"
   ]
  },
  {
   "cell_type": "code",
   "execution_count": 2,
   "metadata": {},
   "outputs": [
    {
     "name": "stdout",
     "output_type": "stream",
     "text": [
      "posix\n"
     ]
    }
   ],
   "source": [
    "print(os.name)\n",
    "\n",
    "my_os = os.name"
   ]
  },
  {
   "attachments": {},
   "cell_type": "markdown",
   "metadata": {},
   "source": [
    "## working directory"
   ]
  },
  {
   "cell_type": "code",
   "execution_count": 7,
   "metadata": {},
   "outputs": [
    {
     "data": {
      "text/plain": [
       "'/home/akshay/Desktop/GL_learn/Python'"
      ]
     },
     "execution_count": 7,
     "metadata": {},
     "output_type": "execute_result"
    }
   ],
   "source": [
    "os.getcwd()"
   ]
  },
  {
   "cell_type": "code",
   "execution_count": 8,
   "metadata": {},
   "outputs": [
    {
     "name": "stdout",
     "output_type": "stream",
     "text": [
      "/home/akshay/Desktop/GL_learn/Python\n"
     ]
    }
   ],
   "source": [
    "print(os.getcwd())"
   ]
  },
  {
   "attachments": {},
   "cell_type": "markdown",
   "metadata": {},
   "source": [
    "## contents of directory"
   ]
  },
  {
   "cell_type": "code",
   "execution_count": 9,
   "metadata": {},
   "outputs": [
    {
     "data": {
      "text/plain": [
       "['functions.ipynb',\n",
       " 'OOP_in_python.ipynb',\n",
       " 'Debugging.ipynb',\n",
       " '.ipynb_checkpoints',\n",
       " 'intro_to_python_data_types.ipynb',\n",
       " 'Operating_system_module.ipynb',\n",
       " 'flow_control.ipynb',\n",
       " 'Python_Pre_Work.ipynb']"
      ]
     },
     "execution_count": 9,
     "metadata": {},
     "output_type": "execute_result"
    }
   ],
   "source": [
    "os.listdir('.')"
   ]
  },
  {
   "cell_type": "code",
   "execution_count": 10,
   "metadata": {},
   "outputs": [
    {
     "data": {
      "text/plain": [
       "['Bhaktivinoda_Thakura_Bhakti_Tatttva_Viveka.pdf',\n",
       " 'joy_bhaiya_tyre_pressure',\n",
       " 'datastructures_python',\n",
       " 'try.txt',\n",
       " 'iTunes.desktop',\n",
       " 'IELTS Live - Speaking Part 1 Band 9 Performances-pi3rr7ySSjc.mp4',\n",
       " 'gayher-information.sh',\n",
       " 'Krish_naik_ML_algorithms.pdf',\n",
       " 'mobile_camera_videos',\n",
       " 'Acknowlegement.pdf',\n",
       " 'codes_and_problem_solves_ideas_links',\n",
       " 'bookmarks',\n",
       " '100DaysOfCode',\n",
       " '#62_एकांतिक वार्तालाप_05-01-23_Ekantik Vartalaap_ Bhajan Marg - YouTube_files',\n",
       " 'Youtube_learn',\n",
       " 'Phone_Backup',\n",
       " 'Guru-Tattva-booklet.pdf',\n",
       " 'check_bookmark_resumes.txt',\n",
       " 'test.py',\n",
       " 'test.cpp',\n",
       " '#62_एकांतिक वार्तालाप_05-01-23_Ekantik Vartalaap_ Bhajan Marg - YouTube.html',\n",
       " 'd_vid',\n",
       " 'Complete Python Pandas Data Science Tutorial! (Reading CSV_Excel files, Sorting, Filtering, Groupby)-vmEHCJofslg.mp4',\n",
       " 'bookmarks_python_and_os_problems',\n",
       " 'KC',\n",
       " 'GL_learn',\n",
       " 'ML_AI.pdf',\n",
       " 'Pantech_LIVES_ML',\n",
       " 'Gour_Govinda_Swami_-_Suddha-Nama_Bhajan-Chanting_the_Pure_Name.pdf',\n",
       " 'Data_SCIENCE.jpeg',\n",
       " 'BG',\n",
       " 'Hacker_rank_challenges',\n",
       " \"When to Use LinkedIn's Career Breaks Feature LinkedIn.pdf\",\n",
       " 'Google_IT_automation_with_Python',\n",
       " 'dive_into_python',\n",
       " 'IELTS Live - Speaking Band 9 Interview Strategy-UqpWtpXX0kI.mp4',\n",
       " 'chatGPT.jpeg']"
      ]
     },
     "execution_count": 10,
     "metadata": {},
     "output_type": "execute_result"
    }
   ],
   "source": [
    "os.listdir('/home/akshay/Desktop')"
   ]
  },
  {
   "attachments": {},
   "cell_type": "markdown",
   "metadata": {},
   "source": [
    "## make and rename directory"
   ]
  },
  {
   "cell_type": "code",
   "execution_count": 11,
   "metadata": {},
   "outputs": [],
   "source": [
    "os.mkdir('/home/akshay/Desktop/try')"
   ]
  },
  {
   "cell_type": "code",
   "execution_count": 12,
   "metadata": {},
   "outputs": [],
   "source": [
    "os.rename('/home/akshay/Desktop/try','/home/akshay/Desktop/tried')"
   ]
  },
  {
   "attachments": {},
   "cell_type": "markdown",
   "metadata": {},
   "source": [
    "## create and edit file"
   ]
  },
  {
   "cell_type": "code",
   "execution_count": null,
   "metadata": {},
   "outputs": [],
   "source": [
    "file = open('/home/akshay/Desktop/bookmarks.txt','w')\n",
    "file.write('hello\\n')\n",
    "file.write('world!')\n",
    "file.close()"
   ]
  },
  {
   "cell_type": "code",
   "execution_count": null,
   "metadata": {},
   "outputs": [],
   "source": []
  }
 ],
 "metadata": {
  "kernelspec": {
   "display_name": "Python 3",
   "language": "python",
   "name": "python3"
  },
  "language_info": {
   "codemirror_mode": {
    "name": "ipython",
    "version": 3
   },
   "file_extension": ".py",
   "mimetype": "text/x-python",
   "name": "python",
   "nbconvert_exporter": "python",
   "pygments_lexer": "ipython3",
   "version": "3.8.10"
  }
 },
 "nbformat": 4,
 "nbformat_minor": 2
}
